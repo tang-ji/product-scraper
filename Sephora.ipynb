{
 "cells": [
  {
   "cell_type": "code",
   "execution_count": 15,
   "metadata": {},
   "outputs": [],
   "source": [
    "import requests, re, os, json\n",
    "from bs4 import BeautifulSoup\n",
    "\n",
    "def get_products_num(l):\n",
    "    if l[:5] != \"https\":\n",
    "        l = url + l[1:]\n",
    "    return l"
   ]
  },
  {
   "cell_type": "code",
   "execution_count": 2,
   "metadata": {},
   "outputs": [],
   "source": [
    "headers = {\n",
    "    \"user-agent\":\"Mozilla/5.0 (Windows NT 10.0; Win64; x64) AppleWebKit/537.36 (KHTML, like Gecko) Chrome/88.0.4324.104 Safari/537.36\"\n",
    "}\n",
    "\n",
    "url = \"https://www.sephora.de/\"\n",
    "res = requests.get(url, headers=headers)\n",
    "soup = BeautifulSoup(res.text)"
   ]
  },
  {
   "cell_type": "code",
   "execution_count": 4,
   "metadata": {},
   "outputs": [],
   "source": [
    "contents = {}"
   ]
  },
  {
   "cell_type": "code",
   "execution_count": 11,
   "metadata": {},
   "outputs": [],
   "source": [
    "for category1 in soup.find_all(\"ul\", {\"class\":\"tc-top-category\"}):\n",
    "    ## Category - Level 1\n",
    "    C1 = category1.find(\"a\", {\"class\":\"drilldown-top-category-link\"}).contents[-1].strip()\n",
    "    contents[C1] = {}\n",
    "#     print(C1)\n",
    "    \n",
    "    ## Category - Level 2\n",
    "    for category2 in category1.find_all(\"li\")[3:]:\n",
    "        C2 = category2.find(\"span\", {\"class\":\"title\"})\n",
    "        if C2:\n",
    "#             print(\" \", C2.string)\n",
    "            contents[C1][C2.string] = {}\n",
    "            for category3 in category2.find_all(\"a\", {\"class\":\"drilldown-link sub-category js-tc-nav-click-event-mobile\"})[1:]:\n",
    "#                 print(\"  \", category3.string.strip(), get_products_num(category3.get(\"href\")))\n",
    "                contents[C1][C2.string][category3.string.strip()] = get_products_num(category3.get(\"href\"))"
   ]
  },
  {
   "cell_type": "code",
   "execution_count": 16,
   "metadata": {},
   "outputs": [],
   "source": [
    "with open(\"contents_sephora.json\", \"w\") as outfile:  \n",
    "    json.dump(contents, outfile) "
   ]
  },
  {
   "cell_type": "code",
   "execution_count": null,
   "metadata": {},
   "outputs": [],
   "source": []
  }
 ],
 "metadata": {
  "kernelspec": {
   "display_name": "Python 3",
   "language": "python",
   "name": "python3"
  },
  "language_info": {
   "codemirror_mode": {
    "name": "ipython",
    "version": 3
   },
   "file_extension": ".py",
   "mimetype": "text/x-python",
   "name": "python",
   "nbconvert_exporter": "python",
   "pygments_lexer": "ipython3",
   "version": "3.8.5"
  }
 },
 "nbformat": 4,
 "nbformat_minor": 4
}
